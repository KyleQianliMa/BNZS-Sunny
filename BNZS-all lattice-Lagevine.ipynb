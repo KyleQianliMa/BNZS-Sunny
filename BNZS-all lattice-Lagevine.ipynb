{
 "cells": [
  {
   "cell_type": "code",
   "execution_count": 612,
   "id": "6324841c",
   "metadata": {},
   "outputs": [],
   "source": [
    "# === Loading Packages ===\n",
    "using Sunny # The main package\n",
    "using ProgressMeter  #Statistics, Formatting, StaticArrays, LinearAlgebra, DelimitedFiles, OffsetArrays, Random # Some useful peripheral packages\n",
    "using GLMakie, Plots # Some useful plotting packages\n",
    "using Statistics, Formatting, StaticArrays, LinearAlgebra, DelimitedFiles, OffsetArrays, JLD2, Random\n",
    "Sunny.offline_viewers();"
   ]
  },
  {
   "cell_type": "code",
   "execution_count": 613,
   "id": "7175059f",
   "metadata": {},
   "outputs": [
    {
     "data": {
      "text/plain": [
       "\u001b[4m\u001b[1mCrystal\u001b[22m\u001b[24m\n",
       "HM symbol 'P 4/m c c' (124)\n",
       "Lattice params a=15.68, b=15.68, c=13.61, α=90°, β=90°, γ=90°\n",
       "Cell volume 3346\n",
       "Type 'Ba1_1', Wyckoff 2a (point group '422'):\n",
       "   1. [0, 0, 0.25]\n",
       "   2. [0.5, 0, 0.25]\n",
       "   3. [0, 0.5, 0.25]\n",
       "   4. [0.5, 0.5, 0.25]\n",
       "   5. [0, 0, 0.75]\n",
       "   6. [0.5, 0, 0.75]\n",
       "   7. [0, 0.5, 0.75]\n",
       "   8. [0.5, 0.5, 0.75]\n",
       "Type 'Ba1_2', Wyckoff 2c (point group '422'):\n",
       "   9. [0.25, 0.25, 0.25]\n",
       "   10. [0.75, 0.25, 0.25]\n",
       "   11. [0.25, 0.75, 0.25]\n",
       "   12. [0.75, 0.75, 0.25]\n",
       "   13. [0.25, 0.25, 0.75]\n",
       "   14. [0.75, 0.25, 0.75]\n",
       "   15. [0.25, 0.75, 0.75]\n",
       "   16. [0.75, 0.75, 0.75]\n",
       "Type 'Nd1', Wyckoff 8m (point group 'm..'):\n",
       "   17. [0.1708, 0.0792, 0]\n",
       "   18. [0.6709, 0.0792, 0]\n",
       "   19. [0.4208, 0.1708, 0]\n",
       "   20. [0.9208, 0.1708, 0]\n",
       "   21. [0.0792, 0.3292, 0]\n",
       "   22. [0.5792, 0.3292, 0]\n",
       "   23. [0.3292, 0.4208, 0]\n",
       "   24. [0.8292, 0.4208, 0]\n",
       "   25. [0.1708, 0.5792, 0]\n",
       "   26. [0.6709, 0.5792, 0]\n",
       "   27. [0.4208, 0.6709, 0]\n",
       "   28. [0.9208, 0.6709, 0]\n",
       "   29. [0.0792, 0.8292, 0]\n",
       "   30. [0.5792, 0.8292, 0]\n",
       "   31. [0.3292, 0.9208, 0]\n",
       "   32. [0.8292, 0.9208, 0]\n",
       "   33. [0.3292, 0.0792, 0.5]\n",
       "   34. [0.8292, 0.0792, 0.5]\n",
       "   35. [0.0792, 0.1708, 0.5]\n",
       "   36. [0.5792, 0.1708, 0.5]\n",
       "   37. [0.4208, 0.3292, 0.5]\n",
       "   38. [0.9208, 0.3292, 0.5]\n",
       "   39. [0.1708, 0.4208, 0.5]\n",
       "   40. [0.6709, 0.4208, 0.5]\n",
       "   41. [0.3292, 0.5792, 0.5]\n",
       "   42. [0.8292, 0.5792, 0.5]\n",
       "   43. [0.0792, 0.6709, 0.5]\n",
       "   44. [0.5792, 0.6709, 0.5]\n",
       "   45. [0.4208, 0.8292, 0.5]\n",
       "   46. [0.9208, 0.8292, 0.5]\n",
       "   47. [0.1708, 0.9208, 0.5]\n",
       "   48. [0.6709, 0.9208, 0.5]\n",
       "Type 'Zn1', Wyckoff 4f (point group '222.'):\n",
       "   49. [0.25, 0, 0.25]\n",
       "   50. [0.75, 0, 0.25]\n",
       "   51. [0, 0.25, 0.25]\n",
       "   52. [0.5, 0.25, 0.25]\n",
       "   53. [0.25, 0.5, 0.25]\n",
       "   54. [0.75, 0.5, 0.25]\n",
       "   55. [0, 0.75, 0.25]\n",
       "   56. [0.5, 0.75, 0.25]\n",
       "   57. [0.25, 0, 0.75]\n",
       "   58. [0.75, 0, 0.75]\n",
       "   59. [0, 0.25, 0.75]\n",
       "   60. [0.5, 0.25, 0.75]\n",
       "   61. [0.25, 0.5, 0.75]\n",
       "   62. [0.75, 0.5, 0.75]\n",
       "   63. [0, 0.75, 0.75]\n",
       "   64. [0.5, 0.75, 0.75]\n",
       "Type 'S1_1', Wyckoff 2b (point group '4/m..'):\n",
       "   65. [0, 0, 0]\n",
       "   66. [0.5, 0, 0]\n",
       "   67. [0, 0.5, 0]\n",
       "   68. [0.5, 0.5, 0]\n",
       "   69. [0, 0, 0.5]\n",
       "   70. [0.5, 0, 0.5]\n",
       "   71. [0, 0.5, 0.5]\n",
       "   72. [0.5, 0.5, 0.5]\n",
       "Type 'S1_2', Wyckoff 2d (point group '4/m..'):\n",
       "   73. [0.25, 0.25, 0]\n",
       "   74. [0.75, 0.25, 0]\n",
       "   75. [0.25, 0.75, 0]\n",
       "   76. [0.75, 0.75, 0]\n",
       "   77. [0.25, 0.25, 0.5]\n",
       "   78. [0.75, 0.25, 0.5]\n",
       "   79. [0.25, 0.75, 0.5]\n",
       "   80. [0.75, 0.75, 0.5]\n",
       "Type 'S2', Wyckoff 16n (point group '1'):\n",
       "   81. [0.325, 0.075, 0.125]\n",
       "   82. [0.825, 0.075, 0.125]\n",
       "   83. [0.075, 0.175, 0.125]\n",
       "   84. [0.575, 0.175, 0.125]\n",
       "   85. [0.425, 0.325, 0.125]\n",
       "   86. [0.925, 0.325, 0.125]\n",
       "   87. [0.175, 0.425, 0.125]\n",
       "   88. [0.675, 0.425, 0.125]\n",
       "   89. [0.325, 0.575, 0.125]\n",
       "   90. [0.825, 0.575, 0.125]\n",
       "   91. [0.075, 0.675, 0.125]\n",
       "   92. [0.575, 0.675, 0.125]\n",
       "   93. [0.425, 0.825, 0.125]\n",
       "   94. [0.925, 0.825, 0.125]\n",
       "   95. [0.175, 0.925, 0.125]\n",
       "   96. [0.675, 0.925, 0.125]\n",
       "   97. [0.175, 0.075, 0.375]\n",
       "   98. [0.675, 0.075, 0.375]\n",
       "   99. [0.425, 0.175, 0.375]\n",
       "   100. [0.925, 0.175, 0.375]\n",
       "   101. [0.075, 0.325, 0.375]\n",
       "   102. [0.575, 0.325, 0.375]\n",
       "   103. [0.325, 0.425, 0.375]\n",
       "   104. [0.825, 0.425, 0.375]\n",
       "   105. [0.175, 0.575, 0.375]\n",
       "   106. [0.675, 0.575, 0.375]\n",
       "   107. [0.425, 0.675, 0.375]\n",
       "   108. [0.925, 0.675, 0.375]\n",
       "   109. [0.075, 0.825, 0.375]\n",
       "   110. [0.575, 0.825, 0.375]\n",
       "   111. [0.325, 0.925, 0.375]\n",
       "   112. [0.825, 0.925, 0.375]\n",
       "   113. [0.175, 0.075, 0.625]\n",
       "   114. [0.675, 0.075, 0.625]\n",
       "   115. [0.425, 0.175, 0.625]\n",
       "   116. [0.925, 0.175, 0.625]\n",
       "   117. [0.075, 0.325, 0.625]\n",
       "   118. [0.575, 0.325, 0.625]\n",
       "   119. [0.325, 0.425, 0.625]\n",
       "   120. [0.825, 0.425, 0.625]\n",
       "   121. [0.175, 0.575, 0.625]\n",
       "   122. [0.675, 0.575, 0.625]\n",
       "   123. [0.425, 0.675, 0.625]\n",
       "   124. [0.925, 0.675, 0.625]\n",
       "   125. [0.075, 0.825, 0.625]\n",
       "   126. [0.575, 0.825, 0.625]\n",
       "   127. [0.325, 0.925, 0.625]\n",
       "   128. [0.825, 0.925, 0.625]\n",
       "   129. [0.325, 0.075, 0.875]\n",
       "   130. [0.825, 0.075, 0.875]\n",
       "   131. [0.075, 0.175, 0.875]\n",
       "   132. [0.575, 0.175, 0.875]\n",
       "   133. [0.425, 0.325, 0.875]\n",
       "   134. [0.925, 0.325, 0.875]\n",
       "   135. [0.175, 0.425, 0.875]\n",
       "   136. [0.675, 0.425, 0.875]\n",
       "   137. [0.325, 0.575, 0.875]\n",
       "   138. [0.825, 0.575, 0.875]\n",
       "   139. [0.075, 0.675, 0.875]\n",
       "   140. [0.575, 0.675, 0.875]\n",
       "   141. [0.425, 0.825, 0.875]\n",
       "   142. [0.925, 0.825, 0.875]\n",
       "   143. [0.175, 0.925, 0.875]\n",
       "   144. [0.675, 0.925, 0.875]\n"
      ]
     },
     "execution_count": 613,
     "metadata": {},
     "output_type": "execute_result"
    }
   ],
   "source": [
    "# === Define the crystal structure of BNZS by importing a cif file === \n",
    "xtal_BNZS = Crystal(\"BNZS_maddy.cif\",symprec=0.001)\n",
    "#display(xtal_BNZS);"
   ]
  },
  {
   "cell_type": "code",
   "execution_count": 614,
   "id": "f388370b",
   "metadata": {},
   "outputs": [
    {
     "name": "stdout",
     "output_type": "stream",
     "text": [
      "Warning: atoms are being renumbered.\n"
     ]
    },
    {
     "data": {
      "text/plain": [
       "\u001b[4m\u001b[1mCrystal\u001b[22m\u001b[24m\n",
       "HM symbol 'P 4/m c c' (124)\n",
       "Lattice params a=15.68, b=15.68, c=13.61, α=90°, β=90°, γ=90°\n",
       "Cell volume 3346\n",
       "Type 'Nd1', Wyckoff 8m (point group 'm..'):\n",
       "   1. [0.1708, 0.0792, 0]\n",
       "   2. [0.6709, 0.0792, 0]\n",
       "   3. [0.4208, 0.1708, 0]\n",
       "   4. [0.9208, 0.1708, 0]\n",
       "   5. [0.0792, 0.3292, 0]\n",
       "   6. [0.5792, 0.3292, 0]\n",
       "   7. [0.3292, 0.4208, 0]\n",
       "   8. [0.8292, 0.4208, 0]\n",
       "   9. [0.1708, 0.5792, 0]\n",
       "   10. [0.6709, 0.5792, 0]\n",
       "   11. [0.4208, 0.6709, 0]\n",
       "   12. [0.9208, 0.6709, 0]\n",
       "   13. [0.0792, 0.8292, 0]\n",
       "   14. [0.5792, 0.8292, 0]\n",
       "   15. [0.3292, 0.9208, 0]\n",
       "   16. [0.8292, 0.9208, 0]\n",
       "   17. [0.3292, 0.0792, 0.5]\n",
       "   18. [0.8292, 0.0792, 0.5]\n",
       "   19. [0.0792, 0.1708, 0.5]\n",
       "   20. [0.5792, 0.1708, 0.5]\n",
       "   21. [0.4208, 0.3292, 0.5]\n",
       "   22. [0.9208, 0.3292, 0.5]\n",
       "   23. [0.1708, 0.4208, 0.5]\n",
       "   24. [0.6709, 0.4208, 0.5]\n",
       "   25. [0.3292, 0.5792, 0.5]\n",
       "   26. [0.8292, 0.5792, 0.5]\n",
       "   27. [0.0792, 0.6709, 0.5]\n",
       "   28. [0.5792, 0.6709, 0.5]\n",
       "   29. [0.4208, 0.8292, 0.5]\n",
       "   30. [0.9208, 0.8292, 0.5]\n",
       "   31. [0.1708, 0.9208, 0.5]\n",
       "   32. [0.6709, 0.9208, 0.5]\n"
      ]
     },
     "execution_count": 614,
     "metadata": {},
     "output_type": "execute_result"
    }
   ],
   "source": [
    "xtal_Nd=subcrystal(xtal_BNZS, \"Nd1\",)"
   ]
  },
  {
   "cell_type": "code",
   "execution_count": 615,
   "id": "e96a08d1",
   "metadata": {},
   "outputs": [
    {
     "name": "stdout",
     "output_type": "stream",
     "text": [
      "\u001b[4m\u001b[1mAtom 1\u001b[22m\u001b[24m\n",
      "Type 'Nd1', position [0.1708, 0.0792, 0], multiplicity 32\n",
      "Allowed g-tensor: |   A  D+E    0 |\n",
      "                  | D-E    B    0 |\n",
      "                  |   0    0    C |\n",
      "Allowed anisotropy in Stevens operators 𝒪[k,q]:\n",
      "    c₁*𝒪[2,-2] + c₂*𝒪[2,0] + c₃*𝒪[2,2] +\n",
      "    c₄*𝒪[4,-4] + c₅*𝒪[4,-2] + c₆*𝒪[4,0] + c₇*𝒪[4,2] + c₈*𝒪[4,4] +\n",
      "    c₉*𝒪[6,-6] + c₁₀*𝒪[6,-4] + c₁₁*𝒪[6,-2] + c₁₂*𝒪[6,0] + c₁₃*𝒪[6,2] + c₁₄*𝒪[6,4] + c₁₅*𝒪[6,6]\n",
      "\n",
      "\u001b[4m\u001b[1mBond(3, 6, [0, 0, 0])\u001b[22m\u001b[24m\n",
      "Distance 3.5100130645547, coordination 1\n",
      "Connects 'Nd1' at [0.4208, 0.1708, 0] to 'Nd1' at [0.5792, 0.3292, 0]\n",
      "Allowed exchange matrix: | A  D  0 |\n",
      "                         | D  B  0 |\n",
      "                         | 0  0  C |\n",
      "\n",
      "\u001b[4m\u001b[1mBond(2, 3, [0, 0, 0])\u001b[22m\u001b[24m\n",
      "Distance 4.1750642552536, coordination 2\n",
      "Connects 'Nd1' at [0.6709, 0.0792, 0] to 'Nd1' at [0.4208, 0.1708, 0]\n",
      "Allowed exchange matrix: |   A  D+E    0 |\n",
      "                         | D-E    B    0 |\n",
      "                         |   0    0    C |\n",
      "Allowed DM vector: [0 0 E]\n",
      "\n",
      "\u001b[4m\u001b[1mBond(1, 3, [0, 0, 0])\u001b[22m\u001b[24m\n",
      "Distance 4.1750642552536, coordination 2\n",
      "Connects 'Nd1' at [0.1708, 0.0792, 0] to 'Nd1' at [0.4208, 0.1708, 0]\n",
      "Allowed exchange matrix: |   A  D+E    0 |\n",
      "                         | D-E    B    0 |\n",
      "                         |   0    0    C |\n",
      "Allowed DM vector: [0 0 E]\n",
      "\n",
      "\u001b[4m\u001b[1mBond(7, 10, [0, 0, 0])\u001b[22m\u001b[24m\n",
      "Distance 5.90443249355877, coordination 1\n",
      "Connects 'Nd1' at [0.3292, 0.4208, 0] to 'Nd1' at [0.6709, 0.5792, 0]\n",
      "Allowed exchange matrix: | A  D  0 |\n",
      "                         | D  B  0 |\n",
      "                         | 0  0  C |\n",
      "\n",
      "\u001b[4m\u001b[1mBond(1, 7, [0, 0, 0])\u001b[22m\u001b[24m\n",
      "Distance 5.90443249355877, coordination 1\n",
      "Connects 'Nd1' at [0.1708, 0.0792, 0] to 'Nd1' at [0.3292, 0.4208, 0]\n",
      "Allowed exchange matrix: | A  D  0 |\n",
      "                         | D  B  0 |\n",
      "                         | 0  0  C |\n",
      "\n",
      "\u001b[4m\u001b[1mBond(1, 19, [0, 0, 0])\u001b[22m\u001b[24m\n",
      "Distance 7.1037560342042, coordination 2\n",
      "Connects 'Nd1' at [0.1708, 0.0792, 0] to 'Nd1' at [0.0792, 0.1708, 0.5]\n",
      "Allowed exchange matrix: |   A  D+F  C-E |\n",
      "                         | D-F    A -C-E |\n",
      "                         | C+E -C+E    B |\n",
      "Allowed DM vector: [-E E F]\n",
      "\n",
      "\u001b[4m\u001b[1mBond(3, 20, [0, 0, 0])\u001b[22m\u001b[24m\n",
      "Distance 7.2449443585974, coordination 2\n",
      "Connects 'Nd1' at [0.4208, 0.1708, 0] to 'Nd1' at [0.5792, 0.1708, 0.5]\n",
      "Allowed exchange matrix: | A  F  D |\n",
      "                         |-F  B  E |\n",
      "                         | D -E  C |\n",
      "Allowed DM vector: [E 0 F]\n",
      "\n",
      "\u001b[4m\u001b[1mBond(1, 17, [0, 0, 0])\u001b[22m\u001b[24m\n",
      "Distance 7.2449443585974, coordination 2\n",
      "Connects 'Nd1' at [0.1708, 0.0792, 0] to 'Nd1' at [0.3292, 0.0792, 0.5]\n",
      "Allowed exchange matrix: | A  F  D |\n",
      "                         |-F  B  E |\n",
      "                         | D -E  C |\n",
      "Allowed DM vector: [E 0 F]\n",
      "\n",
      "\u001b[4m\u001b[1mBond(10, 3, [0, 0, 0])\u001b[22m\u001b[24m\n",
      "Distance 7.5063454848447, coordination 2\n",
      "Connects 'Nd1' at [0.6709, 0.5792, 0] to 'Nd1' at [0.4208, 0.1708, 0]\n",
      "Allowed exchange matrix: |   A  D+E    0 |\n",
      "                         | D-E    B    0 |\n",
      "                         |   0    0    C |\n",
      "Allowed DM vector: [0 0 E]\n",
      "\n",
      "\u001b[4m\u001b[1mBond(6, 1, [0, 0, 0])\u001b[22m\u001b[24m\n",
      "Distance 7.5063454848447, coordination 2\n",
      "Connects 'Nd1' at [0.5792, 0.3292, 0] to 'Nd1' at [0.1708, 0.0792, 0]\n",
      "Allowed exchange matrix: |   A  D+E    0 |\n",
      "                         | D-E    B    0 |\n",
      "                         |   0    0    C |\n",
      "Allowed DM vector: [0 0 E]\n",
      "\n"
     ]
    }
   ],
   "source": [
    "# display(\"======== BNZS Exchange Interactions to unknown Neighbor ========\")\n",
    "print_symmetry_table(xtal_Nd,7.5); # Print g-factor of Cr site and exchange interactions to distance of 6.0Å"
   ]
  },
  {
   "cell_type": "code",
   "execution_count": 616,
   "id": "290ae0ca",
   "metadata": {},
   "outputs": [
    {
     "data": {
      "text/plain": [
       "\u001b[4m\u001b[1mSystem [SU(2)]\u001b[22m\u001b[24m\n",
       "Cell size 32, Lattice size (1, 1, 1)\n"
      ]
     },
     "execution_count": 616,
     "metadata": {},
     "output_type": "execute_result"
    }
   ],
   "source": [
    "L = 1\n",
    "k = 1\n",
    "gtensorplus=[0.85 -3.68 0;0.85 3.68 0; 0 0 0.0] #parallel to field\n",
    "gtensorminus=[0.85 3.68 0;-0.85 3.68 0; 0 0 0.0] #perp to field\n",
    "gtensor=[0 -5.2 0;1.2 0 0; 0 0 0]\n",
    "\n",
    "sys = System(xtal_Nd, (L,L,k), [SpinInfo(1, S=1/2)], :SUN, units=Units.meV, seed=2)\n",
    "# enable_dipole_dipole!(sys)"
   ]
  },
  {
   "cell_type": "code",
   "execution_count": 617,
   "id": "cd4b9c36",
   "metadata": {},
   "outputs": [],
   "source": [
    "set_exchange!(sys,-0.9, Bond(3, 6, [0, 0, 0]))\n",
    "    \n",
    "set_exchange!(sys,1.8, Bond(6, 11, [0, 0, 0]))\n",
    "\n",
    "# set_exchange!(sys, 1.2, Bond(3, 5, [0, 0, 0])) #AF interactions\n",
    "# set_exchange!(sys, 1.2, Bond(7, 10, [0, 0, 0])) #AF interactions\n",
    "    \n",
    "# set_exchange!(sys, -0.1, Bond(1, 19, [0, 0, 0])) "
   ]
  },
  {
   "cell_type": "code",
   "execution_count": 618,
   "id": "fd428537",
   "metadata": {},
   "outputs": [],
   "source": [
    "set_anisotropy!(sys, 5*(𝒮[1]^2+𝒮[2]^2), 3)\n",
    "# set_anisotropy!(sys, 4*(𝒮[1]^2+𝒮[2]^2), 14)"
   ]
  },
  {
   "cell_type": "code",
   "execution_count": 619,
   "id": "6b855c5b",
   "metadata": {
    "scrolled": true
   },
   "outputs": [],
   "source": [
    "# print_bond(xtal_Nd, Bond(7, 6, [0, 0, 0]); b_ref=Bond(2,3,[0,0,0]));\n",
    "# print_bond(xtal_Nd, Bond(3, 6, [0, 0, 0]));"
   ]
  },
  {
   "cell_type": "code",
   "execution_count": 620,
   "id": "aeabf701",
   "metadata": {},
   "outputs": [],
   "source": [
    "for i in range(start = 1, stop=L, step=1)\n",
    "    for j in range(start = 1, stop=L, step=1)\n",
    "        for k in range(start = 1, stop=k, step=1)\n",
    "            polarize_spin!(sys,(-1,1,0),(i,j,k,3))\n",
    "            polarize_spin!(sys,(-1,1,0),(i,j,k,6))\n",
    "            polarize_spin!(sys,(-1,1,0),(i,j,k,12))\n",
    "            polarize_spin!(sys,(-1,1,0),(i,j,k,13))\n",
    "                        \n",
    "            polarize_spin!(sys,(1,-1,0),(i,j,k,4))\n",
    "            polarize_spin!(sys,(1,-1,0),(i,j,k,5))\n",
    "            polarize_spin!(sys,(1,-1,0),(i,j,k,11))\n",
    "            polarize_spin!(sys,(1,-1,0),(i,j,k,14))\n",
    "#Layer2\n",
    "\n",
    "        end\n",
    "    end\n",
    "end"
   ]
  },
  {
   "cell_type": "code",
   "execution_count": 621,
   "id": "b5925cbf",
   "metadata": {},
   "outputs": [
    {
     "data": {
      "image/png": "[encoded data removed]",
      "text/plain": [
       "Figure()"
      ]
     },
     "execution_count": 621,
     "metadata": {},
     "output_type": "execute_result"
    }
   ],
   "source": [
    "sys=to_inhomogeneous(sys)\n",
    "for i in range(start = 1, stop=L, step=1)\n",
    "    for j in range(start = 1, stop=L, step=1)\n",
    "        for k in range(start = 1, stop=k, step=1)\n",
    "              set_vacancy_at!(sys,(i,j,k,1))\n",
    "              set_vacancy_at!(sys,(i,j,k,2))\n",
    "              set_vacancy_at!(sys,(i,j,k,3))\n",
    "              set_vacancy_at!(sys,(i,j,k,4))\n",
    "              set_vacancy_at!(sys,(i,j,k,5))\n",
    "              set_vacancy_at!(sys,(i,j,k,6))\n",
    "              set_vacancy_at!(sys,(i,j,k,7))\n",
    "              set_vacancy_at!(sys,(i,j,k,8))\n",
    "              set_vacancy_at!(sys,(i,j,k,9))\n",
    "              set_vacancy_at!(sys,(i,j,k,10))\n",
    "#               set_vacancy_at!(sys,(i,j,k,11))\n",
    "              set_vacancy_at!(sys,(i,j,k,12))\n",
    "              set_vacancy_at!(sys,(i,j,k,13))\n",
    "#                set_vacancy_at!(sys,(i,j,k,14))\n",
    "              set_vacancy_at!(sys,(i,j,k,15))\n",
    "              set_vacancy_at!(sys,(i,j,k,16))\n",
    "                        \n",
    "            set_vacancy_at!(sys,(i,j,k,18)) \n",
    "            set_vacancy_at!(sys,(i,j,k,19))\n",
    "            set_vacancy_at!(sys,(i,j,k,20))\n",
    "            set_vacancy_at!(sys,(i,j,k,21))\n",
    "            set_vacancy_at!(sys,(i,j,k,22))\n",
    "            set_vacancy_at!(sys,(i,j,k,23))\n",
    "            set_vacancy_at!(sys,(i,j,k,25))\n",
    "            set_vacancy_at!(sys,(i,j,k,27))\n",
    "            set_vacancy_at!(sys,(i,j,k,28))\n",
    "            set_vacancy_at!(sys,(i,j,k,29))\n",
    "            set_vacancy_at!(sys,(i,j,k,30))\n",
    "           set_vacancy_at!(sys,(i,j,k,32))\n",
    "           set_vacancy_at!(sys,(i,j,k,17))\n",
    "           set_vacancy_at!(sys,(i,j,k,24))\n",
    "          set_vacancy_at!(sys,(i,j,k,26))\n",
    "           set_vacancy_at!(sys,(i,j,k,31))\n",
    "        end\n",
    "    end\n",
    "end\n",
    "\n",
    "plot_spins(sys,arrowlength=1, linewidth=0.5, arrowsize=1.0)"
   ]
  },
  {
   "cell_type": "code",
   "execution_count": 622,
   "id": "87f53368",
   "metadata": {},
   "outputs": [],
   "source": [
    "B=0\n",
    "set_external_field!(sys, (sqrt(B), -sqrt(B),0))"
   ]
  },
  {
   "cell_type": "code",
   "execution_count": 623,
   "id": "c9a874e4",
   "metadata": {
    "scrolled": true
   },
   "outputs": [],
   "source": [
    "Δt = 0.01\n",
    "λ = 0.1        # Dimensionless magnitude of coupling to thermal bath\n",
    "langevin = Langevin(Δt; kT=0, λ);\n",
    "randomize_spins!(sys)"
   ]
  },
  {
   "cell_type": "code",
   "execution_count": 624,
   "id": "73575026",
   "metadata": {},
   "outputs": [
    {
     "data": {
      "image/png": "[encoded data removed]",
      "text/plain": [
       "Figure()"
      ]
     },
     "execution_count": 624,
     "metadata": {},
     "output_type": "execute_result"
    }
   ],
   "source": [
    "for kT in range(1, 0, 100_000)\n",
    "    langevin.kT = kT\n",
    "    step!(sys, langevin)\n",
    "end\n",
    "plot_spins(sys,arrowlength=0.5, linewidth=0.5, arrowsize=1.0)"
   ]
  },
  {
   "cell_type": "code",
   "execution_count": 625,
   "id": "98c45671",
   "metadata": {},
   "outputs": [],
   "source": [
    "# Make a `StructureFactor` and calculate an initial sample\n",
    "sf = DynamicStructureFactor(sys; Δt=0.05, ωmax=3.0, nω=100);"
   ]
  },
  {
   "cell_type": "code",
   "execution_count": 626,
   "id": "6fce2ca4",
   "metadata": {
    "scrolled": true
   },
   "outputs": [
    {
     "data": {
      "image/png": "[encoded data removed]",
      "text/plain": [
       "Figure()"
      ]
     },
     "execution_count": 626,
     "metadata": {},
     "output_type": "execute_result"
    }
   ],
   "source": [
    "qs = [ [1, 1, 0]]\n",
    "is = intensities(sf, qs, :perp)\n",
    "\n",
    "fig = Figure()\n",
    "ax = Axis(fig[1,1]; xlabel=\"meV\", ylabel=\"Intensity\")\n",
    "l1 = lines!(ax, ωs(sf), is[1,:])\n",
    "Legend(fig[1,2], [l1], [\"first\"])\n",
    "fig"
   ]
  },
  {
   "cell_type": "code",
   "execution_count": 627,
   "id": "a5092c8c",
   "metadata": {
    "scrolled": false
   },
   "outputs": [
    {
     "data": {
      "image/png": "[encoded data removed]",
      "text/plain": [
       "FigureAxisPlot()"
      ]
     },
     "execution_count": 627,
     "metadata": {},
     "output_type": "execute_result"
    }
   ],
   "source": [
    "kT=0.025\n",
    "points = [[0,   0, 0],  # List of wave vectors that define a path\n",
    "          [1.2,   1.2, 0],]\n",
    "density = 80\n",
    "path, markers = connected_path(points, density);\n",
    "\n",
    "formfactors = [FormFactor(1, \"Nd3\"; g_lande=0.78)]\n",
    "is = intensities(sf, path, :perp;\n",
    "    interpolation = :linear,       # Interpolate between available wave vectors\n",
    "    kT,                            # Temperature for intensity correction\n",
    "    formfactors,                   # Form factor information\n",
    ")\n",
    "is = broaden_energy(sf, is, (ω, ω₀)->lorentzian(ω-ω₀, 0.01))  # Add artificial broadening\n",
    "\n",
    "labels = [\"($(p[1]),$(p[2]),$(p[3]))\" for p in points]\n",
    "\n",
    "GLMakie.heatmap(1:size(is,1), ωs(sf), is;\n",
    "    colorrange=(0, 1),\n",
    "    axis = (\n",
    "#         ylabel = \"meV\",\n",
    "        xticks = (markers, labels),\n",
    "        xticklabelrotation=π/8,\n",
    "        xticklabelsize=12,\n",
    "    )\n",
    ")"
   ]
  }
 ],
 "metadata": {
  "kernelspec": {
   "display_name": "Julia 1.8.1",
   "language": "julia",
   "name": "julia-1.8"
  },
  "language_info": {
   "file_extension": ".jl",
   "mimetype": "application/julia",
   "name": "julia",
   "version": "1.8.1"
  }
 },
 "nbformat": 4,
 "nbformat_minor": 5
}
